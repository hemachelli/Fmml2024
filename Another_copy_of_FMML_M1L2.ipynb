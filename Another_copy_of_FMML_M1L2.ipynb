{
  "cells": [
    {
      "cell_type": "markdown",
      "metadata": {
        "id": "view-in-github",
        "colab_type": "text"
      },
      "source": [
        "<a href=\"https://colab.research.google.com/github/hemachelli/Fmml2024/blob/main/Another_copy_of_FMML_M1L2.ipynb\" target=\"_parent\"><img src=\"https://colab.research.google.com/assets/colab-badge.svg\" alt=\"Open In Colab\"/></a>"
      ]
    },
    {
      "cell_type": "markdown",
      "metadata": {
        "id": "3Eu9VZbF01eq"
      },
      "source": [
        "# Machine Learning terms and metrics\n",
        "\n",
        "FMML Module 1, Lab 2\n",
        "\n",
        "In this lab, we will show a part of the ML pipeline by using the California Housing dataset. There are 20640 samples, each with 8 attributes like income of the block, age of the houses per district etc. The task is to predict the cost of the houses per district. We will use the scikit-learn library to load the data and perform some basic data preprocessing and model training. We will also show how to evaluate the model using some common metrics, split the data into training and testing sets, and use cross-validation to get a better estimate of the model's performance."
      ]
    },
    {
      "cell_type": "code",
      "execution_count": null,
      "metadata": {
        "id": "8qBvyEem0vLi"
      },
      "outputs": [],
      "source": [
        "import numpy as np\n",
        "from sklearn import datasets\n",
        "import matplotlib.pyplot as plt\n",
        "\n",
        "rng = np.random.default_rng(seed=42)"
      ]
    },
    {
      "cell_type": "code",
      "execution_count": null,
      "metadata": {
        "colab": {
          "base_uri": "https://localhost:8080/"
        },
        "id": "8LpqjN991GGJ",
        "outputId": "a7fdaa24-b65e-4f6d-a256-588dc43b7018"
      },
      "outputs": [
        {
          "output_type": "stream",
          "name": "stdout",
          "text": [
            ".. _california_housing_dataset:\n",
            "\n",
            "California Housing dataset\n",
            "--------------------------\n",
            "\n",
            "**Data Set Characteristics:**\n",
            "\n",
            "    :Number of Instances: 20640\n",
            "\n",
            "    :Number of Attributes: 8 numeric, predictive attributes and the target\n",
            "\n",
            "    :Attribute Information:\n",
            "        - MedInc        median income in block group\n",
            "        - HouseAge      median house age in block group\n",
            "        - AveRooms      average number of rooms per household\n",
            "        - AveBedrms     average number of bedrooms per household\n",
            "        - Population    block group population\n",
            "        - AveOccup      average number of household members\n",
            "        - Latitude      block group latitude\n",
            "        - Longitude     block group longitude\n",
            "\n",
            "    :Missing Attribute Values: None\n",
            "\n",
            "This dataset was obtained from the StatLib repository.\n",
            "https://www.dcc.fc.up.pt/~ltorgo/Regression/cal_housing.html\n",
            "\n",
            "The target variable is the median house value for California districts,\n",
            "expressed in hundreds of thousands of dollars ($100,000).\n",
            "\n",
            "This dataset was derived from the 1990 U.S. census, using one row per census\n",
            "block group. A block group is the smallest geographical unit for which the U.S.\n",
            "Census Bureau publishes sample data (a block group typically has a population\n",
            "of 600 to 3,000 people).\n",
            "\n",
            "A household is a group of people residing within a home. Since the average\n",
            "number of rooms and bedrooms in this dataset are provided per household, these\n",
            "columns may take surprisingly large values for block groups with few households\n",
            "and many empty houses, such as vacation resorts.\n",
            "\n",
            "It can be downloaded/loaded using the\n",
            ":func:`sklearn.datasets.fetch_california_housing` function.\n",
            "\n",
            ".. topic:: References\n",
            "\n",
            "    - Pace, R. Kelley and Ronald Barry, Sparse Spatial Autoregressions,\n",
            "      Statistics and Probability Letters, 33 (1997) 291-297\n",
            "\n"
          ]
        }
      ],
      "source": [
        "dataset = datasets.fetch_california_housing()\n",
        "# Dataset description\n",
        "print(dataset.DESCR)"
      ]
    },
    {
      "cell_type": "markdown",
      "metadata": {
        "id": "PCe1VNftevgE"
      },
      "source": [
        "Given below are the list of target values. These correspond to the house value derived considering all the 8 input features and are continuous values. We should use regression models to predict these values but we will start with a simple classification model for the sake of simplicity. We need to just round off the values to the nearest integer and use a classification model to predict the house value."
      ]
    },
    {
      "cell_type": "code",
      "execution_count": null,
      "metadata": {
        "colab": {
          "base_uri": "https://localhost:8080/"
        },
        "id": "F8K0ggBOevgE",
        "outputId": "f3d78d66-7b34-4e11-fd9e-ce6b31b1b0ac"
      },
      "outputs": [
        {
          "output_type": "stream",
          "name": "stdout",
          "text": [
            "Orignal target values: [4.526 3.585 3.521 ... 0.923 0.847 0.894]\n",
            "Target values after conversion: [4 3 3 ... 0 0 0]\n",
            "Input variables shape: (20640, 8)\n",
            "Output variables shape: (20640,)\n"
          ]
        }
      ],
      "source": [
        "print(\"Orignal target values:\", dataset.target)\n",
        "\n",
        "dataset.target = dataset.target.astype(int)\n",
        "\n",
        "print(\"Target values after conversion:\", dataset.target)\n",
        "print(\"Input variables shape:\", dataset.data.shape)\n",
        "print(\"Output variables shape:\", dataset.target.shape)"
      ]
    },
    {
      "cell_type": "markdown",
      "metadata": {
        "id": "iNx4174W5xRg"
      },
      "source": [
        "The simplest model to use for classification is the K-Nearest Neighbors model. We will use this model to predict the house value with a K value of 1. We will also use the accuracy metric to evaluate the model."
      ]
    },
    {
      "cell_type": "code",
      "execution_count": null,
      "metadata": {
        "id": "07zpydQj1hIQ"
      },
      "outputs": [],
      "source": [
        "def NN1(traindata, trainlabel, query):\n",
        "    \"\"\"\n",
        "    This function takes in the training data, training labels and a query point\n",
        "    and returns the predicted label for the query point using the nearest neighbour algorithm\n",
        "\n",
        "    traindata: numpy array of shape (n,d) where n is the number of samples and d is the number of features\n",
        "    trainlabel: numpy array of shape (n,) where n is the number of samples\n",
        "    query: numpy array of shape (d,) where d is the number of features\n",
        "\n",
        "    returns: the predicted label for the query point which is the label of the training data which is closest to the query point\n",
        "    \"\"\"\n",
        "    diff = (\n",
        "        traindata - query\n",
        "    )  # find the difference between features. Numpy automatically takes care of the size here\n",
        "    sq = diff * diff  # square the differences\n",
        "    dist = sq.sum(1)  # add up the squares\n",
        "    label = trainlabel[np.argmin(dist)]\n",
        "    return label\n",
        "\n",
        "\n",
        "def NN(traindata, trainlabel, testdata):\n",
        "    \"\"\"\n",
        "    This function takes in the training data, training labels and test data\n",
        "    and returns the predicted labels for the test data using the nearest neighbour algorithm\n",
        "\n",
        "    traindata: numpy array of shape (n,d) where n is the number of samples and d is the number of features\n",
        "    trainlabel: numpy array of shape (n,) where n is the number of samples\n",
        "    testdata: numpy array of shape (m,d) where m is the number of test samples and d is the number of features\n",
        "\n",
        "    returns: the predicted labels for the test data which is the label of the training data which is closest to each test point\n",
        "    \"\"\"\n",
        "    predlabel = np.array([NN1(traindata, trainlabel, i) for i in testdata])\n",
        "    return predlabel"
      ]
    },
    {
      "cell_type": "markdown",
      "metadata": {
        "id": "03JktkfIGaje"
      },
      "source": [
        "We will also define a 'random classifier', which randomly allots labels to each sample"
      ]
    },
    {
      "cell_type": "code",
      "execution_count": null,
      "metadata": {
        "id": "fogWAtjyGhAH"
      },
      "outputs": [],
      "source": [
        "def RandomClassifier(traindata, trainlabel, testdata):\n",
        "    \"\"\"\n",
        "    This function takes in the training data, training labels and test data\n",
        "    and returns the predicted labels for the test data using the random classifier algorithm\n",
        "\n",
        "    In reality, we don't need these arguments but we are passing them to keep the function signature consistent with other classifiers\n",
        "\n",
        "    traindata: numpy array of shape (n,d) where n is the number of samples and d is the number of features\n",
        "    trainlabel: numpy array of shape (n,) where n is the number of samples\n",
        "    testdata: numpy array of shape (m,d) where m is the number of test samples and d is the number of features\n",
        "\n",
        "    returns: the predicted labels for the test data which is a random label from the training data\n",
        "    \"\"\"\n",
        "\n",
        "    classes = np.unique(trainlabel)\n",
        "    rints = rng.integers(low=0, high=len(classes), size=len(testdata))\n",
        "    predlabel = classes[rints]\n",
        "    return predlabel"
      ]
    },
    {
      "cell_type": "markdown",
      "metadata": {
        "id": "1Hjf1KHs7fU5"
      },
      "source": [
        "We need a metric to evaluate the performance of the model. Let us define a metric 'Accuracy' to see how good our learning algorithm is. Accuracy is the ratio of the number of correctly classified samples to the total number of samples. The higher the accuracy, the better the algorithm. We will use the accuracy metric to evaluate and compate the performance of the K-Nearest Neighbors model and the random classifier."
      ]
    },
    {
      "cell_type": "code",
      "execution_count": null,
      "metadata": {
        "id": "ouuCqWU07bz-"
      },
      "outputs": [],
      "source": [
        "def Accuracy(gtlabel, predlabel):\n",
        "    \"\"\"\n",
        "    This function takes in the ground-truth labels and predicted labels\n",
        "    and returns the accuracy of the classifier\n",
        "\n",
        "    gtlabel: numpy array of shape (n,) where n is the number of samples\n",
        "    predlabel: numpy array of shape (n,) where n is the number of samples\n",
        "\n",
        "    returns: the accuracy of the classifier which is the number of correct predictions divided by the total number of predictions\n",
        "    \"\"\"\n",
        "    assert len(gtlabel) == len(\n",
        "        predlabel\n",
        "    ), \"Length of the ground-truth labels and predicted labels should be the same\"\n",
        "    correct = (\n",
        "        gtlabel == predlabel\n",
        "    ).sum()  # count the number of times the groundtruth label is equal to the predicted label.\n",
        "    return correct / len(gtlabel)"
      ]
    },
    {
      "cell_type": "markdown",
      "metadata": {
        "id": "4vJFwBFa9Klw"
      },
      "source": [
        "Let us make a function to split the dataset with the desired probability. We will use this function to split the dataset into training and testing sets. We will use the training set to train the model and the testing set to evaluate the model."
      ]
    },
    {
      "cell_type": "code",
      "execution_count": null,
      "metadata": {
        "id": "Ko0VzpSM2Tdi"
      },
      "outputs": [],
      "source": [
        "def split(data, label, percent):\n",
        "    # generate a random number for each sample\n",
        "    rnd = rng.random(len(label))\n",
        "    split1 = rnd < percent\n",
        "    split2 = rnd >= percent\n",
        "\n",
        "    split1data = data[split1, :]\n",
        "    split1label = label[split1]\n",
        "    split2data = data[split2, :]\n",
        "    split2label = label[split2]\n",
        "    return split1data, split1label, split2data, split2label"
      ]
    },
    {
      "cell_type": "markdown",
      "metadata": {
        "id": "AcK3LEAJ_LGC"
      },
      "source": [
        "We will reserve 20% of our dataset as the test set. We will not change this portion throughout our experiments"
      ]
    },
    {
      "cell_type": "code",
      "execution_count": null,
      "metadata": {
        "colab": {
          "base_uri": "https://localhost:8080/"
        },
        "id": "bBZkHBLJ1iU-",
        "outputId": "135709ae-0902-42d1-b320-94bbf378741c"
      },
      "outputs": [
        {
          "output_type": "stream",
          "name": "stdout",
          "text": [
            "Number of test samples: 4144\n",
            "Number of train samples: 16496\n",
            "Percent of test data: 20.07751937984496 %\n"
          ]
        }
      ],
      "source": [
        "testdata, testlabel, alltraindata, alltrainlabel = split(\n",
        "    dataset.data, dataset.target, 20 / 100\n",
        ")\n",
        "print(\"Number of test samples:\", len(testlabel))\n",
        "print(\"Number of train samples:\", len(alltrainlabel))\n",
        "print(\"Percent of test data:\", len(testlabel) * 100 / len(dataset.target), \"%\")"
      ]
    },
    {
      "cell_type": "markdown",
      "metadata": {
        "id": "a6Ss0Z6IAGNV"
      },
      "source": [
        "## Experiments with splits\n",
        "\n",
        "Let us reserve some of our train data as a validation set"
      ]
    },
    {
      "cell_type": "code",
      "execution_count": null,
      "metadata": {
        "id": "WFew2iry_7W7"
      },
      "outputs": [],
      "source": [
        "traindata, trainlabel, valdata, vallabel = split(\n",
        "    alltraindata, alltrainlabel, 75 / 100)"
      ]
    },
    {
      "cell_type": "markdown",
      "metadata": {
        "id": "60hiu4clFN1i"
      },
      "source": [
        "What is the accuracy of our classifiers on the train dataset?"
      ]
    },
    {
      "cell_type": "code",
      "execution_count": null,
      "metadata": {
        "colab": {
          "base_uri": "https://localhost:8080/"
        },
        "id": "DBlZDTHUFTZx",
        "outputId": "ab87aee6-d6ee-4bd1-8f7d-c6877cd74019"
      },
      "outputs": [
        {
          "output_type": "stream",
          "name": "stdout",
          "text": [
            "Training accuracy using nearest neighbour algorithm: 100.0 %\n",
            "Training accuracy using random classifier:  16.4375808538163 %\n"
          ]
        }
      ],
      "source": [
        "trainpred = NN(traindata, trainlabel, traindata)\n",
        "trainAccuracy = Accuracy(trainlabel, trainpred)\n",
        "print(\"Training accuracy using nearest neighbour algorithm:\", trainAccuracy*100, \"%\")\n",
        "\n",
        "trainpred = RandomClassifier(traindata, trainlabel, traindata)\n",
        "trainAccuracy = Accuracy(trainlabel, trainpred)\n",
        "print(\"Training accuracy using random classifier: \", trainAccuracy*100, \"%\")"
      ]
    },
    {
      "cell_type": "markdown",
      "metadata": {
        "id": "7h08-9gJDtSy"
      },
      "source": [
        "For nearest neighbour, the train accuracy is always 1. The accuracy of the random classifier is close to 1/(number of classes) which is 0.1666 in our case. This is because the random classifier randomly assigns a label to each sample and the probability of assigning the correct label is 1/(number of classes). Let us predict the labels for our validation set and get the accuracy. This accuracy is a good estimate of the accuracy of our model on unseen data."
      ]
    },
    {
      "cell_type": "code",
      "execution_count": null,
      "metadata": {
        "colab": {
          "base_uri": "https://localhost:8080/"
        },
        "id": "4h7bXoW_2H3v",
        "outputId": "a6265dd2-cf1c-418c-ffb6-9c23adf48776"
      },
      "outputs": [
        {
          "output_type": "stream",
          "name": "stdout",
          "text": [
            "Validation accuracy using nearest neighbour algorithm: 34.10852713178294 %\n",
            "Validation accuracy using random classifier: 16.884689922480618 %\n"
          ]
        }
      ],
      "source": [
        "valpred = NN(traindata, trainlabel, valdata)\n",
        "valAccuracy = Accuracy(vallabel, valpred)\n",
        "print(\"Validation accuracy using nearest neighbour algorithm:\", valAccuracy*100, \"%\")\n",
        "\n",
        "\n",
        "valpred = RandomClassifier(traindata, trainlabel, valdata)\n",
        "valAccuracy = Accuracy(vallabel, valpred)\n",
        "print(\"Validation accuracy using random classifier:\", valAccuracy*100, \"%\")"
      ]
    },
    {
      "cell_type": "markdown",
      "metadata": {
        "id": "py9bLguFEjfg"
      },
      "source": [
        "Validation accuracy of nearest neighbour is considerably less than its train accuracy while the validation accuracy of random classifier is the same. However, the validation accuracy of nearest neighbour is twice that of the random classifier. Now let us try another random split and check the validation accuracy. We will see that the validation accuracy changes with the split. This is because the validation set is small and the accuracy is highly dependent on the samples in the validation set. We can get a better estimate of the accuracy by using cross-validation."
      ]
    },
    {
      "cell_type": "code",
      "execution_count": null,
      "metadata": {
        "colab": {
          "base_uri": "https://localhost:8080/"
        },
        "id": "ujm3cyYzEntE",
        "outputId": "95649dfc-1e9c-45f3-eac5-b4889ac526d4"
      },
      "outputs": [
        {
          "output_type": "stream",
          "name": "stdout",
          "text": [
            "Validation accuracy using nearest neighbour algorithm: 34.048257372654156 %\n"
          ]
        }
      ],
      "source": [
        "traindata, trainlabel, valdata, vallabel = split(\n",
        "    alltraindata, alltrainlabel, 75 / 100)\n",
        "valpred = NN(traindata, trainlabel, valdata)\n",
        "valAccuracy = Accuracy(vallabel, valpred)\n",
        "print(\"Validation accuracy using nearest neighbour algorithm:\", valAccuracy*100, \"%\")"
      ]
    },
    {
      "cell_type": "markdown",
      "metadata": {
        "id": "oSOx7U83EKie"
      },
      "source": [
        "You can run the above cell multiple times to try with different random splits.\n",
        "We notice that the accuracy is different for each run, but close together.\n",
        "\n",
        "Now let us compare it with the accuracy we get on the test dataset."
      ]
    },
    {
      "cell_type": "code",
      "execution_count": null,
      "metadata": {
        "colab": {
          "base_uri": "https://localhost:8080/"
        },
        "id": "PNEZ5ToYBEDW",
        "outputId": "9305f8da-aa47-4ead-ddde-6463609e1232"
      },
      "outputs": [
        {
          "output_type": "stream",
          "name": "stdout",
          "text": [
            "Test accuracy: 34.91795366795367 %\n"
          ]
        }
      ],
      "source": [
        "testpred = NN(alltraindata, alltrainlabel, testdata)\n",
        "testAccuracy = Accuracy(testlabel, testpred)\n",
        "\n",
        "print(\"Test accuracy:\", testAccuracy*100, \"%\")"
      ]
    },
    {
      "cell_type": "markdown",
      "metadata": {
        "id": "w3dGD531K3gH"
      },
      "source": [
        "### Try it out for yourself and answer:\n",
        "1. How is the accuracy of the validation set affected if we increase the percentage of validation set? What happens when we reduce it?\n",
        "2. How does the size of the train and validation set affect how well we can predict the accuracy on the test set using the validation set?\n",
        "3. What do you think is a good percentage to reserve for the validation set so that thest two factors are balanced?\n",
        "\n",
        "Answer for both nearest neighbour and random classifier. You can note down the values for your experiments and plot a graph using  <a href=https://matplotlib.org/stable/gallery/lines_bars_and_markers/step_demo.html#sphx-glr-gallery-lines-bars-and-markers-step-demo-py>plt.plot<href>. Check also for extreme values for splits, like 99.9% or 0.1%"
      ]
    },
    {
      "cell_type": "markdown",
      "source": [
        "01Ans)\n",
        "\n",
        "The accuracy of the validation set can be affected by changing its size in several ways:\n",
        "\n",
        "### 1. **Increasing the Validation Set Size:**\n",
        "   - **More Representative Sample**: A larger validation set generally provides a more representative sample of the data distribution. This can lead to more reliable and stable accuracy estimates, as the validation accuracy is less sensitive to fluctuations due to small sample sizes.\n",
        "   - **Lower Variance**: With a larger validation set, the variance in the validation accuracy tends to decrease, leading to more consistent results across different training runs.\n",
        "   - **Less Training Data**: However, increasing the validation set size reduces the amount of data available for training. If too much data is reserved for validation, the model might underperform due to insufficient training data, potentially decreasing overall accuracy.\n",
        "\n",
        "### 2. **Decreasing the Validation Set Size:**\n",
        "   - **Less Representative Sample**: A smaller validation set may not accurately represent the overall data distribution, which can make the validation accuracy less reliable. The model's performance on the validation set might fluctuate more due to random variations in the smaller sample.\n",
        "   - **Higher Variance**: With a smaller validation set, you may observe more variability in the validation accuracy between training runs, making it harder to gauge the model's true performance.\n",
        "   - **More Training Data**: Reducing the validation set size allows for more data to be used in training, which could improve the model's learning and potentially lead to better performance on the training set. However, the validation accuracy might not reflect this improvement accurately.\n",
        "\n",
        "### Key Considerations:\n",
        "- **Balance**: The ideal validation set size depends on the total dataset size. For smaller datasets, a smaller validation set might be necessary to ensure sufficient training data, while for larger datasets, you can afford to allocate more data to validation.\n",
        "- **Trade-Off**: There is a trade-off between having a representative validation set and having enough data to train the model effectively. Careful tuning and cross-validation techniques (e.g., k-fold cross-validation) can help mitigate the impact of this trade-off.\n",
        "\n",
        "In summary, increasing the validation set size generally improves the stability and reliability of the accuracy estimate but may limit the model's performance if the training set becomes too small. Conversely, reducing the validation set size increases the training data but risks making the validation accuracy less reliable."
      ],
      "metadata": {
        "id": "BOsNCb0zFE-G"
      }
    },
    {
      "cell_type": "code",
      "source": [
        "\n",
        "import tensorflow as tf\n",
        "from tensorflow.keras.datasets import mnist\n",
        "from tensorflow.keras.models import Sequential\n",
        "from tensorflow.keras.layers import Dense, Flatten\n",
        "import matplotlib.pyplot as plt\n",
        "\n",
        "# Load MNIST dataset\n",
        "(x_train, y_train), (x_test, y_test) = mnist.load_data()\n",
        "\n",
        "# Normalize data\n",
        "x_train = x_train / 255.0\n",
        "x_test = x_test / 255.0\n",
        "\n",
        "# Function to create a simple model\n",
        "def create_model():\n",
        "    model = Sequential([\n",
        "        Flatten(input_shape=(28, 28)),\n",
        "        Dense(128, activation='relu'),\n",
        "        Dense(10, activation='softmax')\n",
        "    ])\n",
        "\n",
        "    model.compile(optimizer='adam',\n",
        "                  loss='sparse_categorical_crossentropy',\n",
        "                  metrics=['accuracy'])\n",
        "\n",
        "    return model\n",
        "\n",
        "# Validation split percentages to test\n",
        "validation_splits = [0.1, 0.2, 0.3, 0.4, 0.5]\n",
        "history_results = []\n",
        "\n",
        "# Train the model with different validation splits\n",
        "for split in validation_splits:\n",
        "    model = create_model()\n",
        "    history = model.fit(x_train, y_train, epochs=5,\n",
        "                        validation_split=split, verbose=0)\n",
        "    history_results.append(history)\n",
        "\n",
        "# Plot validation accuracy for each split\n",
        "plt.figure(figsize=(10, 6))\n",
        "for i, split in enumerate(validation_splits):\n",
        "    plt.plot(history_results[i].history['val_accuracy'], label=f'Validation Split: {split}')\n",
        "plt.title('Validation Accuracy vs. Validation Split')\n",
        "plt.xlabel('Epoch')\n",
        "plt.ylabel('Validation Accuracy')\n",
        "plt.legend()\n",
        "plt.show()"
      ],
      "metadata": {
        "id": "RJZx1TXkFVsp",
        "outputId": "2c600c44-b731-4942-9559-9308ad2da33e",
        "colab": {
          "base_uri": "https://localhost:8080/",
          "height": 278
        }
      },
      "execution_count": null,
      "outputs": [
        {
          "output_type": "stream",
          "name": "stdout",
          "text": [
            "Downloading data from https://storage.googleapis.com/tensorflow/tf-keras-datasets/mnist.npz\n",
            "\u001b[1m11490434/11490434\u001b[0m \u001b[32m━━━━━━━━━━━━━━━━━━━━\u001b[0m\u001b[37m\u001b[0m \u001b[1m0s\u001b[0m 0us/step\n"
          ]
        },
        {
          "output_type": "stream",
          "name": "stderr",
          "text": [
            "/usr/local/lib/python3.10/dist-packages/keras/src/layers/reshaping/flatten.py:37: UserWarning: Do not pass an `input_shape`/`input_dim` argument to a layer. When using Sequential models, prefer using an `Input(shape)` object as the first layer in the model instead.\n",
            "  super().__init__(**kwargs)\n"
          ]
        },
        {
          "output_type": "display_data",
          "data": {
            "text/plain": [
              "<Figure size 1000x600 with 1 Axes>"
            ],
            "image/png": "[encoded data removed]"
          },
          "metadata": {}
        }
      ]
    },
    {
      "cell_type": "markdown",
      "source": [
        "02Ans)\n",
        "\n",
        "The size of the training and validation sets significantly impacts how accurately the validation set can predict the model's performance on the test set. Here's how each factor plays a role:\n",
        "\n",
        "### 1. **Training Set Size:**\n",
        "   - **More Training Data**: A larger training set usually allows the model to learn better patterns from the data, leading to better generalization. With more data, the model has a better chance of learning the underlying distribution, resulting in better performance on both the validation and test sets.\n",
        "   - **Less Training Data**: When the training set is smaller, the model might underfit, meaning it doesn't learn the patterns in the data well enough. This can lead to lower performance on the validation set, and more importantly, lower performance on the test set. In this case, the validation set may not be an accurate predictor of test set performance, as the model is not well-trained.\n",
        "\n",
        "### 2. **Validation Set Size:**\n",
        "   - **More Validation Data**: A larger validation set provides a more representative sample of the overall data distribution, making the validation accuracy a more reliable indicator of the test set accuracy. With a larger validation set, the variance in the validation accuracy decreases, which means the validation performance is a better estimate of how the model will perform on unseen data (the test set).\n",
        "   - **Less Validation Data**: A smaller validation set might not capture the full diversity of the data distribution, leading to higher variance in the validation accuracy. This means that the validation accuracy might not be a reliable indicator of the test set accuracy, as the small validation set could either under- or overestimate the model's performance.\n",
        "\n",
        "### Key Points:\n",
        "- **Balance**: You need to balance the training and validation set sizes. If too much data is allocated to validation, the model may not have enough data to train effectively, which can result in lower performance overall. On the other hand, if the validation set is too small, it may not provide an accurate estimate of test set performance.\n",
        "  \n",
        "- **Representative Validation Set**: The validation set must be representative of the overall data distribution for it to be a good predictor of test set performance. If the validation set is too small or not diverse enough, it might not accurately reflect the model's ability to generalize to unseen data.\n",
        "\n",
        "- **Overfitting Risk**: If the training set is small, the model might overfit to the training data, leading to inflated validation accuracy but poor test accuracy. In this case, the validation set fails to predict the test set performance accurately because the model has become too specialized on the training data.\n",
        "\n",
        "### Practical Considerations:\n",
        "- **Cross-Validation**: When the dataset is small, k-fold cross-validation can help improve the reliability of performance estimates. Instead of relying on a single validation set, cross-validation uses multiple training/validation splits, leading to a more accurate and stable estimate of test set performance.\n",
        "  \n",
        "- **Hyperparameter Tuning**: Choosing the right validation set size also plays a critical role in hyperparameter tuning. If the validation set is too small, tuning hyperparameters based on validation performance might not lead to optimal test set performance.\n",
        "\n",
        "### Example:\n",
        "- If you have a large dataset, you can afford to allocate a significant portion of it to the validation set, resulting in a more reliable prediction of test accuracy.\n",
        "- If the dataset is small, allocating too much data to validation can hurt the model's ability to learn. In this case, cross-validation or careful balancing of training/validation set sizes is essential to get a meaningful estimate of test performance.\n",
        "\n",
        "In summary, the ability of the validation set to predict test accuracy is affected by both the training and validation set sizes. A well-balanced approach with a sufficiently large and representative validation set is crucial for making accurate predictions of test performance."
      ],
      "metadata": {
        "id": "HkuIvzgCKWce"
      }
    },
    {
      "cell_type": "code",
      "source": [
        "\n",
        "from sklearn.datasets import make_classification\n",
        "from sklearn.model_selection import train_test_split\n",
        "from sklearn.linear_model import LogisticRegression\n",
        "from sklearn.metrics import accuracy_score\n",
        "import numpy as np\n",
        "\n",
        "# Generate synthetic classification data\n",
        "X, y = make_classification(n_samples=10000, n_features=20, n_classes=2, random_state=42)\n",
        "\n",
        "# Split the data into train, validation, and test sets\n",
        "X_train_full, X_test, y_train_full, y_test = train_test_split(X, y, test_size=0.2, random_state=42)\n",
        "\n",
        "# Different training-validation splits\n",
        "validation_sizes = [0.1, 0.2, 0.3, 0.4, 0.5]\n",
        "\n",
        "results = []\n",
        "\n",
        "for val_size in validation_sizes:\n",
        "    X_train, X_val, y_train, y_val = train_test_split(X_train_full, y_train_full, test_size=val_size, random_state=42)\n",
        "\n",
        "    # Train a logistic regression model\n",
        "    model = LogisticRegression(max_iter=1000)\n",
        "    model.fit(X_train, y_train)\n",
        "\n",
        "    # Calculate validation accuracy\n",
        "    val_accuracy = accuracy_score(y_val, model.predict(X_val))\n",
        "\n",
        "    # Calculate test accuracy\n",
        "    test_accuracy = accuracy_score(y_test, model.predict(X_test))\n",
        "\n",
        "    results.append((len(X_train), len(X_val), val_accuracy, test_accuracy))\n",
        "\n",
        "# Print results\n",
        "for train_size, val_size, val_acc, test_acc in results:\n",
        "    print(f\"Training size: {train_size}, Validation size: {val_size}, Validation Accuracy: {val_acc:.4f}, Test Accuracy: {test_acc:.4f}\")"
      ],
      "metadata": {
        "id": "AbxdoxKaLHVL",
        "outputId": "731d7126-49ba-4553-cec8-c4119fbfd2ec",
        "colab": {
          "base_uri": "https://localhost:8080/"
        }
      },
      "execution_count": null,
      "outputs": [
        {
          "output_type": "stream",
          "name": "stdout",
          "text": [
            "Training size: 7200, Validation size: 800, Validation Accuracy: 0.8825, Test Accuracy: 0.8965\n",
            "Training size: 6400, Validation size: 1600, Validation Accuracy: 0.8900, Test Accuracy: 0.8960\n",
            "Training size: 5600, Validation size: 2400, Validation Accuracy: 0.8842, Test Accuracy: 0.8935\n",
            "Training size: 4800, Validation size: 3200, Validation Accuracy: 0.8825, Test Accuracy: 0.8945\n",
            "Training size: 4000, Validation size: 4000, Validation Accuracy: 0.8872, Test Accuracy: 0.8940\n"
          ]
        }
      ]
    },
    {
      "cell_type": "markdown",
      "source": [
        "03Ans)\n",
        "\n",
        "A good percentage to reserve for the validation set that balances the need for sufficient training data and a reliable estimate of model performance typically falls between **10% to 20%**. Here’s how this range balances the two factors:\n",
        "\n",
        "1. **Sufficient Training Data**: With **70% to 90%** of the data reserved for training, you ensure that your model has enough data to learn effectively and generalize well.\n",
        "\n",
        "2. **Reliable Validation Estimate**: Reserving **10% to 20%** of the data for validation provides a substantial enough sample to estimate model performance reliably, helping to detect overfitting or underfitting.\n",
        "\n",
        "### Practical Recommendation\n",
        "- **For Medium-Sized Datasets**: **15% to 20%** is often a good choice. It provides a reliable validation estimate without taking away too much data from the training set.\n",
        "- **For Smaller Datasets**: You might want to lean towards **10% to 15%** for validation to retain more data for training.\n",
        "- **For Larger Datasets**: You can afford a larger validation set, up to **20%**, as even this percentage represents a substantial number of samples.\n",
        "\n",
        "The specific percentage within this range can depend on your dataset size, model complexity, and performance requirements."
      ],
      "metadata": {
        "id": "W9Twx0qfOEVN"
      }
    },
    {
      "cell_type": "code",
      "source": [
        "\n",
        "from sklearn.datasets import make_classification\n",
        "from sklearn.model_selection import train_test_split\n",
        "from sklearn.linear_model import LogisticRegression\n",
        "from sklearn.metrics import accuracy_score\n",
        "import numpy as np\n",
        "\n",
        "# Generate synthetic classification data\n",
        "X, y = make_classification(n_samples=10000, n_features=20, n_classes=2, random_state=42)\n",
        "\n",
        "# Split the data into a train+validation set and a test set (holdout test set)\n",
        "X_train_full, X_test, y_train_full, y_test = train_test_split(X, y, test_size=0.2, random_state=42)\n",
        "\n",
        "# Define the validation set percentages to experiment with\n",
        "validation_percentages = [0.1, 0.15, 0.2, 0.25, 0.3]\n",
        "\n",
        "results = []\n",
        "\n",
        "for val_percentage in validation_percentages:\n",
        "    # Split the training+validation set into actual training and validation sets\n",
        "    X_train, X_val, y_train, y_val = train_test_split(X_train_full, y_train_full, test_size=val_percentage, random_state=42)\n",
        "\n",
        "    # Train a logistic regression model\n",
        "    model = LogisticRegression(max_iter=1000)\n",
        "    model.fit(X_train, y_train)\n",
        "\n",
        "    # Calculate validation accuracy\n",
        "    val_accuracy = accuracy_score(y_val, model.predict(X_val))\n",
        "\n",
        "    # Calculate test accuracy\n",
        "    test_accuracy = accuracy_score(y_test, model.predict(X_test))\n",
        "\n",
        "    # Calculate the absolute difference between validation accuracy and test accuracy\n",
        "    diff = abs(val_accuracy - test_accuracy)\n",
        "\n",
        "    # Store the results\n",
        "    results.append((val_percentage, len(X_train), len(X_val), val_accuracy, test_accuracy, diff))\n",
        "\n",
        "# Print the results\n",
        "print(f\"{'Validation %':<12} {'Train Size':<12} {'Val Size':<10} {'Val Accuracy':<15} {'Test Accuracy':<15} {'Difference':<12}\")\n",
        "for val_percentage, train_size, val_size, val_acc, test_acc, diff in results:\n",
        "    print(f\"{val_percentage:<12.2f} {train_size:<12} {val_size:<10} {val_acc:<15.4f} {test_acc:<15.4f} {diff:<12.4f}\")\n",
        "\n",
        "# Find the validation percentage with the minimum difference\n",
        "best_result = min(results, key=lambda x: x[-1])\n",
        "best_val_percentage = best_result[0]\n",
        "print(f\"\\nBest validation percentage: {best_val_percentage * 100:.2f}%\")"
      ],
      "metadata": {
        "id": "inr5W0qiOkFh",
        "outputId": "d15588a0-cb6a-4b8a-bb8a-4370edd8ade9",
        "colab": {
          "base_uri": "https://localhost:8080/"
        }
      },
      "execution_count": null,
      "outputs": [
        {
          "output_type": "stream",
          "name": "stdout",
          "text": [
            "Validation % Train Size   Val Size   Val Accuracy    Test Accuracy   Difference  \n",
            "0.10         7200         800        0.8825          0.8965          0.0140      \n",
            "0.15         6800         1200       0.8842          0.8950          0.0108      \n",
            "0.20         6400         1600       0.8900          0.8960          0.0060      \n",
            "0.25         6000         2000       0.8925          0.8950          0.0025      \n",
            "0.30         5600         2400       0.8842          0.8935          0.0093      \n",
            "\n",
            "Best validation percentage: 25.00%\n"
          ]
        }
      ]
    },
    {
      "cell_type": "markdown",
      "metadata": {
        "id": "M9zvdYY6evgI"
      },
      "source": [
        "> Exercise: Try to implement a 3 nearest neighbour classifier and compare the accuracy of the 1 nearest neighbour classifier and the 3 nearest neighbour classifier on the test dataset. You can use the KNeighborsClassifier class from the scikit-learn library to implement the K-Nearest Neighbors model. You can set the number of neighbors using the n_neighbors parameter. You can also use the accuracy_score function from the scikit-learn library to calculate the accuracy of the model."
      ]
    },
    {
      "cell_type": "markdown",
      "source": [],
      "metadata": {
        "id": "1T5iNQ1NI8nn"
      }
    },
    {
      "cell_type": "markdown",
      "metadata": {
        "id": "PnYvkAZLQY7h"
      },
      "source": [
        "## Multiple Splits\n",
        "\n",
        "One way to get more accurate estimates for the test accuracy is by using <b>cross-validation</b>. Here, we will try a simple version, where we do multiple train/val splits and take the average of validation accuracies as the test accuracy estimation. Here is a function for doing this. Note that this function will take a long time to execute. You can reduce the number of splits to make it faster."
      ]
    },
    {
      "cell_type": "code",
      "execution_count": null,
      "metadata": {
        "id": "E4nGCUQXBTzo"
      },
      "outputs": [],
      "source": [
        "def AverageAccuracy(alldata, alllabel, splitpercent, iterations, classifier=NN):\n",
        "    \"\"\"\n",
        "    This function takes in the data, labels, split percentage, number of iterations and classifier function\n",
        "    and returns the average accuracy of the classifier\n",
        "\n",
        "    alldata: numpy array of shape (n,d) where n is the number of samples and d is the number of features\n",
        "    alllabel: numpy array of shape (n,) where n is the number of samples\n",
        "    splitpercent: float which is the percentage of data to be used for training\n",
        "    iterations: int which is the number of iterations to run the classifier\n",
        "    classifier: function which is the classifier function to be used\n",
        "\n",
        "    returns: the average accuracy of the classifier\n",
        "    \"\"\"\n",
        "    accuracy = 0\n",
        "    for ii in range(iterations):\n",
        "        traindata, trainlabel, valdata, vallabel = split(\n",
        "            alldata, alllabel, splitpercent\n",
        "        )\n",
        "        valpred = classifier(traindata, trainlabel, valdata)\n",
        "        accuracy += Accuracy(vallabel, valpred)\n",
        "    return accuracy / iterations  # average of all accuracies"
      ]
    },
    {
      "cell_type": "code",
      "execution_count": null,
      "metadata": {
        "colab": {
          "base_uri": "https://localhost:8080/",
          "height": 714
        },
        "id": "H3qtNar7Bbik",
        "outputId": "52661e5b-9f0a-4ffd-dbe7-5a84b58ec86e",
        "collapsed": true
      },
      "outputs": [
        {
          "output_type": "error",
          "ename": "TypeError",
          "evalue": "'float' object is not callable",
          "traceback": [
            "\u001b[0;31m---------------------------------------------------------------------------\u001b[0m",
            "\u001b[0;31mTypeError\u001b[0m                                 Traceback (most recent call last)",
            "\u001b[0;32m<ipython-input-30-2ae0c6e92c5d>\u001b[0m in \u001b[0;36m<cell line: 1>\u001b[0;34m()\u001b[0m\n\u001b[0;32m----> 1\u001b[0;31m \u001b[0mavg_acc\u001b[0m \u001b[0;34m=\u001b[0m \u001b[0mAverageAccuracy\u001b[0m\u001b[0;34m(\u001b[0m\u001b[0malltraindata\u001b[0m\u001b[0;34m,\u001b[0m \u001b[0malltrainlabel\u001b[0m\u001b[0;34m,\u001b[0m \u001b[0;36m75\u001b[0m \u001b[0;34m/\u001b[0m \u001b[0;36m100\u001b[0m\u001b[0;34m,\u001b[0m \u001b[0;36m10\u001b[0m\u001b[0;34m,\u001b[0m \u001b[0mclassifier\u001b[0m\u001b[0;34m=\u001b[0m\u001b[0mNN\u001b[0m\u001b[0;34m)\u001b[0m\u001b[0;34m\u001b[0m\u001b[0;34m\u001b[0m\u001b[0m\n\u001b[0m\u001b[1;32m      2\u001b[0m \u001b[0mprint\u001b[0m\u001b[0;34m(\u001b[0m\u001b[0;34m\"Average validation accuracy:\"\u001b[0m\u001b[0;34m,\u001b[0m \u001b[0mavg_acc\u001b[0m\u001b[0;34m*\u001b[0m\u001b[0;36m100\u001b[0m\u001b[0;34m,\u001b[0m \u001b[0;34m\"%\"\u001b[0m\u001b[0;34m)\u001b[0m\u001b[0;34m\u001b[0m\u001b[0;34m\u001b[0m\u001b[0m\n\u001b[1;32m      3\u001b[0m \u001b[0mtestpred\u001b[0m \u001b[0;34m=\u001b[0m \u001b[0mNN\u001b[0m\u001b[0;34m(\u001b[0m\u001b[0malltraindata\u001b[0m\u001b[0;34m,\u001b[0m \u001b[0malltrainlabel\u001b[0m\u001b[0;34m,\u001b[0m \u001b[0mtestdata\u001b[0m\u001b[0;34m)\u001b[0m\u001b[0;34m\u001b[0m\u001b[0;34m\u001b[0m\u001b[0m\n\u001b[1;32m      4\u001b[0m \u001b[0;34m\u001b[0m\u001b[0m\n\u001b[1;32m      5\u001b[0m \u001b[0mprint\u001b[0m\u001b[0;34m(\u001b[0m\u001b[0;34m\"Test accuracy:\"\u001b[0m\u001b[0;34m,\u001b[0m \u001b[0mAccuracy\u001b[0m\u001b[0;34m(\u001b[0m\u001b[0mtestlabel\u001b[0m\u001b[0;34m,\u001b[0m \u001b[0mtestpred\u001b[0m\u001b[0;34m)\u001b[0m\u001b[0;34m*\u001b[0m\u001b[0;36m100\u001b[0m\u001b[0;34m,\u001b[0m \u001b[0;34m\"%\"\u001b[0m\u001b[0;34m)\u001b[0m\u001b[0;34m\u001b[0m\u001b[0;34m\u001b[0m\u001b[0m\n",
            "\u001b[0;32m<ipython-input-20-e4adb843234b>\u001b[0m in \u001b[0;36mAverageAccuracy\u001b[0;34m(alldata, alllabel, splitpercent, iterations, classifier)\u001b[0m\n\u001b[1;32m     14\u001b[0m     \u001b[0maccuracy\u001b[0m \u001b[0;34m=\u001b[0m \u001b[0;36m0\u001b[0m\u001b[0;34m\u001b[0m\u001b[0;34m\u001b[0m\u001b[0m\n\u001b[1;32m     15\u001b[0m     \u001b[0;32mfor\u001b[0m \u001b[0mii\u001b[0m \u001b[0;32min\u001b[0m \u001b[0mrange\u001b[0m\u001b[0;34m(\u001b[0m\u001b[0miterations\u001b[0m\u001b[0;34m)\u001b[0m\u001b[0;34m:\u001b[0m\u001b[0;34m\u001b[0m\u001b[0;34m\u001b[0m\u001b[0m\n\u001b[0;32m---> 16\u001b[0;31m         traindata, trainlabel, valdata, vallabel = split(\n\u001b[0m\u001b[1;32m     17\u001b[0m             \u001b[0malldata\u001b[0m\u001b[0;34m,\u001b[0m \u001b[0malllabel\u001b[0m\u001b[0;34m,\u001b[0m \u001b[0msplitpercent\u001b[0m\u001b[0;34m\u001b[0m\u001b[0;34m\u001b[0m\u001b[0m\n\u001b[1;32m     18\u001b[0m         )\n",
            "\u001b[0;31mTypeError\u001b[0m: 'float' object is not callable"
          ]
        }
      ],
      "source": [
        "avg_acc = AverageAccuracy(alltraindata, alltrainlabel, 75 / 100, 10, classifier=NN)\n",
        "print(\"Average validation accuracy:\", avg_acc*100, \"%\")\n",
        "testpred = NN(alltraindata, alltrainlabel, testdata)\n",
        "\n",
        "print(\"Test accuracy:\", Accuracy(testlabel, testpred)*100, \"%\")"
      ]
    },
    {
      "cell_type": "markdown",
      "metadata": {
        "id": "z-SBxy1qevgJ"
      },
      "source": []
    },
    {
      "cell_type": "markdown",
      "metadata": {
        "id": "33GIn4x5VH-d"
      },
      "source": [
        "This is a very simple way of doing cross-validation. There are many well-known algorithms for cross-validation, like k-fold cross-validation, leave-one-out etc. This will be covered in detail in a later module. For more information about cross-validation, check <a href=https://en.wikipedia.org/wiki/Cross-validation_(statistics)>Cross-validatioin (Wikipedia)</a>\n",
        "\n",
        "### Questions\n",
        "1. Does averaging the validation accuracy across multiple splits give more consistent results?\n",
        "2. Does it give more accurate estimate of test accuracy?\n",
        "3. What is the effect of the number of iterations on the estimate? Do we get a better estimate with higher iterations?\n",
        "4. Consider the results you got for the previous questions. Can we deal with a very small train dataset or validation dataset by increasing the iterations?\n"
      ]
    },
    {
      "cell_type": "markdown",
      "source": [
        "01Ans)\n",
        "\n",
        "Yes, averaging the validation accuracy across multiple splits generally provides a more reliable estimate of a model's performance. When you use multiple validation splits (or folds, as in k-fold cross-validation), you reduce the variability that might come from a single validation set. This helps ensure that your accuracy measure is less sensitive to the specific data partition and more representative of how the model performs across different subsets of the data."
      ],
      "metadata": {
        "id": "erHcHKh5PXwy"
      }
    },
    {
      "cell_type": "code",
      "source": [
        "\n",
        "from sklearn.model_selection import cross_val_score\n",
        "from sklearn.datasets import load_iris\n",
        "from sklearn.ensemble import RandomForestClassifier\n",
        "\n",
        "# Load dataset\n",
        "data = load_iris()\n",
        "X, y = data.data, data.target\n",
        "\n",
        "# Initialize model\n",
        "model = RandomForestClassifier()\n",
        "\n",
        "# Perform k-fold cross-validation\n",
        "scores = cross_val_score(model, X, y, cv=5)  # cv=5 means 5-fold cross-validation\n",
        "\n",
        "# Calculate average accuracy\n",
        "average_accuracy = scores.mean()\n",
        "\n",
        "print(f\"Validation accuracies for each fold: {scores}\")\n",
        "print(f\"Average validation accuracy: {average_accuracy:.4f}\")"
      ],
      "metadata": {
        "id": "7uEUWOlWPiJD",
        "outputId": "914a4ee9-fb4f-4831-8ba8-1d1f2ed0c9f0",
        "colab": {
          "base_uri": "https://localhost:8080/"
        }
      },
      "execution_count": null,
      "outputs": [
        {
          "output_type": "stream",
          "name": "stderr",
          "text": [
            "Exception ignored in: <function _xla_gc_callback at 0x7cb4cb787910>\n",
            "Traceback (most recent call last):\n",
            "  File \"/usr/local/lib/python3.10/dist-packages/jax/_src/lib/__init__.py\", line 98, in _xla_gc_callback\n",
            "    def _xla_gc_callback(*args):\n",
            "KeyboardInterrupt: \n"
          ]
        },
        {
          "output_type": "stream",
          "name": "stdout",
          "text": [
            "Validation accuracies for each fold: [0.96666667 0.96666667 0.93333333 0.93333333 1.        ]\n",
            "Average validation accuracy: 0.9600\n"
          ]
        }
      ]
    },
    {
      "cell_type": "markdown",
      "source": [
        "02Ans)\n",
        "\n",
        "Averaging validation accuracy across multiple splits (or folds) provides a more reliable estimate of a model's performance on unseen data compared to using a single validation split. However, it still represents performance on the validation set, not the final test set.\n",
        "\n",
        "Here’s how it works:\n",
        "\n",
        "- **Validation Accuracy:** When you average validation accuracy across multiple splits, you get a better sense of how the model might perform on different subsets of your data. This is particularly useful for model tuning and selection.\n",
        "\n",
        "- **Test Accuracy:** To estimate how your model will perform on truly unseen data, you should evaluate it on a separate test set that was not used during training or validation. The test set provides an unbiased evaluation of the final model's performance.\n",
        "\n",
        "In summary, while averaging validation accuracy across splits gives a more stable estimate of model performance, the ultimate test accuracy should be measured on a separate, untouched test set to evaluate the model’s generalization ability."
      ],
      "metadata": {
        "id": "a0R9Cz67QVmT"
      }
    },
    {
      "cell_type": "code",
      "source": [
        "\n",
        "from sklearn.model_selection import KFold, train_test_split\n",
        "from sklearn.ensemble import RandomForestClassifier\n",
        "from sklearn.datasets import load_iris\n",
        "from sklearn.metrics import accuracy_score\n",
        "\n",
        "# Load dataset\n",
        "data = load_iris()\n",
        "X, y = data.data, data.target\n",
        "\n",
        "# Split data into training + validation set and test set\n",
        "X_train, X_test, y_train, y_test = train_test_split(X, y, test_size=0.2, random_state=42)\n",
        "\n",
        "# Initialize model\n",
        "model = RandomForestClassifier()\n",
        "\n",
        "# Initialize KFold\n",
        "kf = KFold(n_splits=5, shuffle=True, random_state=42)\n",
        "\n",
        "# List to store validation scores\n",
        "validation_scores = []\n",
        "\n",
        "# Perform K-Fold Cross-Validation\n",
        "for train_index, val_index in kf.split(X_train):\n",
        "    X_train_fold, X_val_fold = X_train[train_index], X_train[val_index]\n",
        "    y_train_fold, y_val_fold = y_train[train_index], y_train[val_index]\n",
        "\n",
        "    model.fit(X_train_fold, y_train_fold)\n",
        "    val_predictions = model.predict(X_val_fold)\n",
        "    val_accuracy = accuracy_score(y_val_fold, val_predictions)\n",
        "    validation_scores.append(val_accuracy)\n",
        "\n",
        "# Calculate average validation accuracy\n",
        "average_validation_accuracy = sum(validation_scores) / len(validation_scores)\n",
        "\n",
        "# Train the model on the entire training set\n",
        "model.fit(X_train, y_train)\n",
        "\n",
        "# Evaluate the model on the test set\n",
        "test_predictions = model.predict(X_test)\n",
        "test_accuracy = accuracy_score(y_test, test_predictions)\n",
        "\n",
        "print(f\"Validation accuracies for each fold: {validation_scores}\")\n",
        "print(f\"Average validation accuracy: {average_validation_accuracy:.4f}\")\n",
        "print(f\"Test accuracy: {test_accuracy:.4f}\")"
      ],
      "metadata": {
        "id": "_8Ty9I1rQuTQ",
        "outputId": "d0941d6e-43e5-4ac9-a1bb-e9ad896b5452",
        "colab": {
          "base_uri": "https://localhost:8080/"
        }
      },
      "execution_count": null,
      "outputs": [
        {
          "output_type": "stream",
          "name": "stdout",
          "text": [
            "Validation accuracies for each fold: [0.9166666666666666, 1.0, 0.9166666666666666, 0.8333333333333334, 1.0]\n",
            "Average validation accuracy: 0.9333\n",
            "Test accuracy: 1.0000\n"
          ]
        }
      ]
    },
    {
      "cell_type": "markdown",
      "source": [
        "03Ans)\n",
        "\n",
        "Increasing the number of iterations (or folds) in cross-validation generally provides a more stable and reliable estimate of model performance, but there are trade-offs to consider:\n",
        "\n",
        "### Effects of More Iterations (or Folds):\n",
        "1. **Reduced Variability:**\n",
        "   - More folds (e.g., using 10-fold instead of 5-fold cross-validation) reduce the variability of the performance estimate. This is because the model is validated on a larger portion of the dataset, leading to a more stable estimate.\n",
        "\n",
        "2. **Better Generalization Estimate:**\n",
        "   - A higher number of folds usually leads to a better estimate of how the model generalizes to unseen data. This is because each fold represents a different subset of the data, providing a more comprehensive view of the model's performance.\n",
        "\n",
        "3. **Increased Computational Cost:**\n",
        "   - More folds mean the model needs to be trained and validated more times. For example, with 10-fold cross-validation, the model is trained 10 times. This increases computational cost and time.\n",
        "\n",
        "4. **Bias-Variance Trade-Off:**\n",
        "   - With more folds, the variance of the estimate decreases (more stable estimate), but the bias might increase slightly because the training data used for each fold is closer to the full dataset. However, in practice, this trade-off is generally manageable.\n",
        "\n",
        "### Practical Considerations:\n",
        "- **Choice of K:**\n",
        "  - Common practice is to use 5 or 10 folds, balancing between a reliable estimate and computational efficiency. For very large datasets, fewer folds may be sufficient, while for smaller datasets, more folds can be beneficial.\n",
        "\n",
        "- **Computational Resources:**\n",
        "  - Consider your computational resources when choosing the number of folds. More folds increase training times significantly.\n",
        "\n",
        "In summary, using more iterations (or folds) in cross-validation usually provides a more accurate estimate of model performance, but it comes at the cost of increased computational resources."
      ],
      "metadata": {
        "id": "BF05xGrURBJ3"
      }
    },
    {
      "cell_type": "code",
      "source": [
        "\n",
        "from sklearn.model_selection import KFold, train_test_split\n",
        "from sklearn.ensemble import RandomForestClassifier\n",
        "from sklearn.datasets import load_iris\n",
        "from sklearn.metrics import accuracy_score\n",
        "\n",
        "# Load dataset\n",
        "data = load_iris()\n",
        "X, y = data.data, data.target\n",
        "\n",
        "# Split data into training + validation set and test set\n",
        "X_train, X_test, y_train, y_test = train_test_split(X, y, test_size=0.2, random_state=42)\n",
        "\n",
        "# Initialize model\n",
        "model = RandomForestClassifier()\n",
        "\n",
        "# Function to perform cross-validation and calculate average accuracy\n",
        "def perform_cross_validation(X_train, y_train, n_folds):\n",
        "    kf = KFold(n_splits=n_folds, shuffle=True, random_state=42)\n",
        "    validation_scores = []\n",
        "\n",
        "    for train_index, val_index in kf.split(X_train):\n",
        "        X_train_fold, X_val_fold = X_train[train_index], X_train[val_index]\n",
        "        y_train_fold, y_val_fold = y_train[train_index], y_train[val_index]\n",
        "\n",
        "        model.fit(X_train_fold, y_train_fold)\n",
        "        val_predictions = model.predict(X_val_fold)\n",
        "        val_accuracy = accuracy_score(y_val_fold, val_predictions)\n",
        "        validation_scores.append(val_accuracy)\n",
        "\n",
        "    return sum(validation_scores) / len(validation_scores)\n",
        "\n",
        "# Test different numbers of folds\n",
        "folds_list = [3, 5, 10]  # Different numbers of folds to test\n",
        "\n",
        "for n_folds in folds_list:\n",
        "    average_validation_accuracy = perform_cross_validation(X_train, y_train, n_folds)\n",
        "\n",
        "    # Train the model on the entire training set\n",
        "    model.fit(X_train, y_train)\n",
        "\n",
        "    # Evaluate the model on the test set\n",
        "    test_predictions = model.predict(X_test)\n",
        "    test_accuracy = accuracy_score(y_test, test_predictions)\n",
        "\n",
        "    print(f\"Number of folds: {n_folds}\")\n",
        "    print(f\"Average validation accuracy: {average_validation_accuracy:.4f}\")\n",
        "    print(f\"Test accuracy: {test_accuracy:.4f}\")\n",
        "    print(\"-\" * 40)"
      ],
      "metadata": {
        "id": "2eyIMXTPRPdl",
        "outputId": "fe0ad67a-c900-4910-99e9-3d149469ac54",
        "colab": {
          "base_uri": "https://localhost:8080/"
        }
      },
      "execution_count": null,
      "outputs": [
        {
          "output_type": "stream",
          "name": "stdout",
          "text": [
            "Number of folds: 3\n",
            "Average validation accuracy: 0.9250\n",
            "Test accuracy: 1.0000\n",
            "----------------------------------------\n",
            "Number of folds: 5\n",
            "Average validation accuracy: 0.9333\n",
            "Test accuracy: 1.0000\n",
            "----------------------------------------\n",
            "Number of folds: 10\n",
            "Average validation accuracy: 0.9167\n",
            "Test accuracy: 1.0000\n",
            "----------------------------------------\n"
          ]
        }
      ]
    },
    {
      "cell_type": "markdown",
      "source": [
        "04Ans)\n",
        "\n",
        "Increasing the number of iterations (or folds) in cross-validation does not directly address the issues related to very small training or validation datasets. Here’s why:\n",
        "\n",
        "### Limitations of Increasing Folds with Small Datasets\n",
        "\n",
        "1. **Small Training Dataset:**\n",
        "   - If the training dataset is very small, each fold used in cross-validation will also be small. Increasing the number of folds will mean that each training subset is even smaller, which can make the model’s training unstable and lead to high variance in performance estimates.\n",
        "\n",
        "2. **Small Validation Dataset:**\n",
        "   - With a very small validation set, each validation fold may not represent the overall data distribution well. Increasing folds means each validation fold will be smaller, which can result in unreliable performance estimates due to high variance in the validation metrics.\n",
        "\n",
        "### Alternative Approaches for Small Datasets\n",
        "\n",
        "1. **Leave-One-Out Cross-Validation (LOOCV):**\n",
        "   - For very small datasets, LOOCV is a special case of k-fold cross-validation where k equals the number of data points. Each data point is used once as a validation set while the remaining points are used for training. This approach maximizes the training data for each model but can be computationally expensive.\n",
        "\n",
        "2. **Bootstrap Resampling:**\n",
        "   - Bootstrap methods involve repeatedly sampling with replacement from the dataset to create multiple training and validation sets. This can provide more stable estimates for small datasets.\n",
        "\n",
        "3. **Data Augmentation:**\n",
        "   - If applicable, augmenting the dataset through synthetic data generation or other techniques can increase the effective size of the training dataset.\n",
        "\n",
        "4. **Regularization and Simplified Models:**\n",
        "   - Using regularization techniques and simpler models can help mitigate overfitting issues associated with very small training datasets.\n",
        "\n",
        "### Summary\n",
        "\n",
        "While increasing the number of folds can help provide a more stable estimate in general, it does not resolve the fundamental issues related to very small datasets. Alternative methods like LOOCV, bootstrapping, and data augmentation are often better suited to handling small datasets."
      ],
      "metadata": {
        "id": "AIeAZFohRgit"
      }
    },
    {
      "cell_type": "code",
      "source": [
        "\n",
        "from sklearn.model_selection import LeaveOneOut\n",
        "from sklearn.ensemble import RandomForestClassifier\n",
        "from sklearn.datasets import load_iris\n",
        "from sklearn.metrics import accuracy_score\n",
        "\n",
        "# Load dataset\n",
        "data = load_iris()\n",
        "X, y = data.data, data.target\n",
        "\n",
        "# Initialize model\n",
        "model = RandomForestClassifier()\n",
        "\n",
        "# Initialize LOOCV\n",
        "loo = LeaveOneOut()\n",
        "\n",
        "# List to store validation scores\n",
        "validation_scores = []\n",
        "\n",
        "# Perform Leave-One-Out Cross-Validation\n",
        "for train_index, val_index in loo.split(X):\n",
        "    X_train_loo, X_val_loo = X[train_index], X[val_index]\n",
        "    y_train_loo, y_val_loo = y[train_index], y[val_index]\n",
        "\n",
        "    model.fit(X_train_loo, y_train_loo)\n",
        "    val_predictions = model.predict(X_val_loo)\n",
        "    val_accuracy = accuracy_score(y_val_loo, val_predictions)\n",
        "    validation_scores.append(val_accuracy)\n",
        "\n",
        "# Calculate average validation accuracy\n",
        "average_validation_accuracy = sum(validation_scores) / len(validation_scores)\n",
        "\n",
        "print(f\"Validation accuracies for each fold: {validation_scores}\")\n",
        "print(f\"Average validation accuracy: {average_validation_accuracy:.4f}\")"
      ],
      "metadata": {
        "id": "_mPKlGraRx08",
        "outputId": "db8e10a1-fcdd-4250-9859-bcbaed031814",
        "colab": {
          "base_uri": "https://localhost:8080/"
        }
      },
      "execution_count": null,
      "outputs": [
        {
          "output_type": "stream",
          "name": "stdout",
          "text": [
            "Validation accuracies for each fold: [1.0, 1.0, 1.0, 1.0, 1.0, 1.0, 1.0, 1.0, 1.0, 1.0, 1.0, 1.0, 1.0, 1.0, 1.0, 1.0, 1.0, 1.0, 1.0, 1.0, 1.0, 1.0, 1.0, 1.0, 1.0, 1.0, 1.0, 1.0, 1.0, 1.0, 1.0, 1.0, 1.0, 1.0, 1.0, 1.0, 1.0, 1.0, 1.0, 1.0, 1.0, 1.0, 1.0, 1.0, 1.0, 1.0, 1.0, 1.0, 1.0, 1.0, 1.0, 1.0, 1.0, 1.0, 1.0, 1.0, 1.0, 1.0, 1.0, 1.0, 1.0, 1.0, 1.0, 1.0, 1.0, 1.0, 1.0, 1.0, 1.0, 1.0, 0.0, 1.0, 1.0, 1.0, 1.0, 1.0, 1.0, 0.0, 1.0, 1.0, 1.0, 1.0, 1.0, 0.0, 1.0, 1.0, 1.0, 1.0, 1.0, 1.0, 1.0, 1.0, 1.0, 1.0, 1.0, 1.0, 1.0, 1.0, 1.0, 1.0, 1.0, 1.0, 1.0, 1.0, 1.0, 1.0, 0.0, 1.0, 1.0, 1.0, 1.0, 1.0, 1.0, 1.0, 1.0, 1.0, 1.0, 1.0, 1.0, 0.0, 1.0, 1.0, 1.0, 1.0, 1.0, 1.0, 1.0, 1.0, 1.0, 1.0, 1.0, 1.0, 1.0, 0.0, 1.0, 1.0, 1.0, 1.0, 1.0, 1.0, 1.0, 1.0, 1.0, 1.0, 1.0, 1.0, 1.0, 1.0, 1.0, 1.0]\n",
            "Average validation accuracy: 0.9600\n"
          ]
        }
      ]
    }
  ],
  "metadata": {
    "colab": {
      "provenance": [],
      "include_colab_link": true
    },
    "kernelspec": {
      "display_name": "Python 3",
      "name": "python3"
    },
    "language_info": {
      "codemirror_mode": {
        "name": "ipython",
        "version": 3
      },
      "file_extension": ".py",
      "mimetype": "text/x-python",
      "name": "python",
      "nbconvert_exporter": "python",
      "pygments_lexer": "ipython3",
      "version": "3.10.10"
    }
  },
  "nbformat": 4,
  "nbformat_minor": 0
}